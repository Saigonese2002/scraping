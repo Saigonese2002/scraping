{
 "cells": [
  {
   "cell_type": "code",
   "execution_count": 3,
   "metadata": {},
   "outputs": [
    {
     "data": {
      "text/html": [
       "<div>\n",
       "<style scoped>\n",
       "    .dataframe tbody tr th:only-of-type {\n",
       "        vertical-align: middle;\n",
       "    }\n",
       "\n",
       "    .dataframe tbody tr th {\n",
       "        vertical-align: top;\n",
       "    }\n",
       "\n",
       "    .dataframe thead th {\n",
       "        text-align: right;\n",
       "    }\n",
       "</style>\n",
       "<table border=\"1\" class=\"dataframe\">\n",
       "  <thead>\n",
       "    <tr style=\"text-align: right;\">\n",
       "      <th></th>\n",
       "      <th>Name</th>\n",
       "      <th>Condition</th>\n",
       "      <th>Price</th>\n",
       "      <th>Location</th>\n",
       "      <th>Link</th>\n",
       "      <th>Description</th>\n",
       "      <th>Car_code</th>\n",
       "      <th>Năm sản xuất:</th>\n",
       "      <th>Tình trạng:</th>\n",
       "      <th>Số Km đã đi:</th>\n",
       "      <th>Xuất xứ:</th>\n",
       "      <th>Kiểu dáng:</th>\n",
       "      <th>Động cơ:</th>\n",
       "      <th>Màu ngoại thất:</th>\n",
       "      <th>Màu nội thất:</th>\n",
       "    </tr>\n",
       "  </thead>\n",
       "  <tbody>\n",
       "    <tr>\n",
       "      <th>31</th>\n",
       "      <td>Mercedes Benz E class E200 Exclusive - 2022</td>\n",
       "      <td>Xe cũ</td>\n",
       "      <td>2 Tỷ 99 Triệu</td>\n",
       "      <td>TP HCM</td>\n",
       "      <td>https://bonbanh.com/xe-mercedes_benz-e_class-e...</td>\n",
       "      <td>*Xe lắp ráp trong nước, màu đen, máy xăng 2.0...</td>\n",
       "      <td>Mã: 5324205</td>\n",
       "      <td>2022</td>\n",
       "      <td>Xe đã dùng</td>\n",
       "      <td>11,000 Km</td>\n",
       "      <td>Lắp ráp trong nước</td>\n",
       "      <td>Sedan</td>\n",
       "      <td>Xăng  2.0 L</td>\n",
       "      <td>Đen</td>\n",
       "      <td>Đen</td>\n",
       "    </tr>\n",
       "    <tr>\n",
       "      <th>13</th>\n",
       "      <td>Kia Sportage Signature 1.6T AWD - 2024</td>\n",
       "      <td>Xe mới</td>\n",
       "      <td>1 Tỷ 14 Triệu</td>\n",
       "      <td>Hà Nội</td>\n",
       "      <td>https://bonbanh.com/xe-kia-sportage-signature-...</td>\n",
       "      <td>*Xe lắp ráp trong nước, màu trắng, máy xăng 1...</td>\n",
       "      <td>Mã: 5402346</td>\n",
       "      <td>2024</td>\n",
       "      <td>Xe mới</td>\n",
       "      <td>NaN</td>\n",
       "      <td>Lắp ráp trong nước</td>\n",
       "      <td>Crossover</td>\n",
       "      <td>Xăng  1.6 L</td>\n",
       "      <td>Trắng</td>\n",
       "      <td>Nâu</td>\n",
       "    </tr>\n",
       "    <tr>\n",
       "      <th>27</th>\n",
       "      <td>Toyota Innova 2.0E - 2015</td>\n",
       "      <td>Xe cũ</td>\n",
       "      <td>345 Triệu</td>\n",
       "      <td>Hải Dương</td>\n",
       "      <td>https://bonbanh.com/xe-toyota-innova-2.0e-2015...</td>\n",
       "      <td>*Xe lắp ráp trong nước, màu cát, máy xăng 2.0...</td>\n",
       "      <td>Mã: 5398456</td>\n",
       "      <td>2015</td>\n",
       "      <td>Xe đã dùng</td>\n",
       "      <td>0 Km</td>\n",
       "      <td>Lắp ráp trong nước</td>\n",
       "      <td>Crossover</td>\n",
       "      <td>Xăng  2.0 L</td>\n",
       "      <td>Cát</td>\n",
       "      <td>Nhiều màu</td>\n",
       "    </tr>\n",
       "  </tbody>\n",
       "</table>\n",
       "</div>"
      ],
      "text/plain": [
       "                                           Name Condition          Price  \\\n",
       "31  Mercedes Benz E class E200 Exclusive - 2022     Xe cũ  2 Tỷ 99 Triệu   \n",
       "13       Kia Sportage Signature 1.6T AWD - 2024    Xe mới  1 Tỷ 14 Triệu   \n",
       "27                    Toyota Innova 2.0E - 2015     Xe cũ      345 Triệu   \n",
       "\n",
       "     Location                                               Link  \\\n",
       "31     TP HCM  https://bonbanh.com/xe-mercedes_benz-e_class-e...   \n",
       "13     Hà Nội  https://bonbanh.com/xe-kia-sportage-signature-...   \n",
       "27  Hải Dương  https://bonbanh.com/xe-toyota-innova-2.0e-2015...   \n",
       "\n",
       "                                          Description     Car_code  \\\n",
       "31   *Xe lắp ráp trong nước, màu đen, máy xăng 2.0...  Mã: 5324205   \n",
       "13   *Xe lắp ráp trong nước, màu trắng, máy xăng 1...  Mã: 5402346   \n",
       "27   *Xe lắp ráp trong nước, màu cát, máy xăng 2.0...  Mã: 5398456   \n",
       "\n",
       "    Năm sản xuất: Tình trạng: Số Km đã đi:            Xuất xứ: Kiểu dáng:  \\\n",
       "31           2022  Xe đã dùng    11,000 Km  Lắp ráp trong nước      Sedan   \n",
       "13           2024      Xe mới          NaN  Lắp ráp trong nước  Crossover   \n",
       "27           2015  Xe đã dùng         0 Km  Lắp ráp trong nước  Crossover   \n",
       "\n",
       "       Động cơ: Màu ngoại thất: Màu nội thất:  \n",
       "31  Xăng  2.0 L             Đen           Đen  \n",
       "13  Xăng  1.6 L           Trắng           Nâu  \n",
       "27  Xăng  2.0 L             Cát     Nhiều màu  "
      ]
     },
     "execution_count": 3,
     "metadata": {},
     "output_type": "execute_result"
    }
   ],
   "source": [
    "import pandas as pd\n",
    "\n",
    "df = pd.read_json('v1.json')\n",
    "df.sample(3)"
   ]
  },
  {
   "cell_type": "code",
   "execution_count": 6,
   "metadata": {},
   "outputs": [
    {
     "data": {
      "text/plain": [
       "array(['SUV', 'Hatchback', 'Bán tải / Pickup', 'Crossover', 'Sedan',\n",
       "       'Van/Minivan'], dtype=object)"
      ]
     },
     "execution_count": 6,
     "metadata": {},
     "output_type": "execute_result"
    }
   ],
   "source": [
    "df['Kiểu dáng:'].unique()"
   ]
  }
 ],
 "metadata": {
  "kernelspec": {
   "display_name": "Python 3",
   "language": "python",
   "name": "python3"
  },
  "language_info": {
   "codemirror_mode": {
    "name": "ipython",
    "version": 3
   },
   "file_extension": ".py",
   "mimetype": "text/x-python",
   "name": "python",
   "nbconvert_exporter": "python",
   "pygments_lexer": "ipython3",
   "version": "3.11.4"
  },
  "orig_nbformat": 4
 },
 "nbformat": 4,
 "nbformat_minor": 2
}
